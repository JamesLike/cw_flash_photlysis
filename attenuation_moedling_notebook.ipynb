{
 "cells": [
  {
   "cell_type": "markdown",
   "metadata": {
    "collapsed": true,
    "pycharm": {
     "is_executing": false,
     "name": "#%% md\n"
    }
   },
   "source": [
    "Consider a small slice of time and of thickness $z$. My intensity is attnuated as $I= I_0 e^{-\\sigma*N*z}$ assuming the temporal 'width' of I is shorter than the excited state lifetime of my chromophore ie no re-excitation. After I have passed through this slice the number of molecules that have switched is: going to be proportional to : the cross section of absoption ($\\sigma$), yield ($\\phi$) and the number of photons (\\#): \n",
    "$$\\Delta N= N \\sigma \\phi \\# $$\n",
    "So I can consider the probility of just a single photon getting through ? And then my intesnity over that number of photons. The integral of N will give me the rate. First need to know the cross section of rs-Kiiro. The units of cross section per a molecule at 400 nm go as: \n",
    "$$ \\sigma_i = \\frac{ln(10) \\epsilon}{N_A}= \\frac{M^{-1}cm^{-1}}{mol^{-1}}=\\frac{mol^{-1}dm^{3}cm^{-1}}{mol^{-1}} = 1000*cm^{3}cm^{-1}=1000*cm^{2}$$"
   ]
  },
  {
   "cell_type": "markdown",
   "metadata": {
    "collapsed": false,
    "pycharm": {
     "name": "#%% md\n"
    }
   },
   "source": [
    "$$  \\sigma_i= \\frac{ln10}{N_A}*1000*(\\epsilon_{500 nm} /3 )  = \\frac{ln10}{N_A}*1000*(115000/3)*M^{-1}*cm^{-1}= 1.47 e-16 cm^{2}  $$"
   ]
  },
  {
   "cell_type": "markdown",
   "metadata": {
    "collapsed": false
   },
   "source": [
    "Need to then account for the yield in some way. The cross section accounts for the probabilty of absoption but want to know given an absorption what is the likelyhood of switching. Quantum yield of flourescence is defined as:\n",
    "    $$ \\phi_{Flou} = \\frac{\\text{# of photons emitted}}{\\text{# of photons absorbed}} = 0.59 \\text{ (Skylan-NS)}$$ "
   ]
  },
  {
   "cell_type": "markdown",
   "metadata": {
    "collapsed": false
   },
   "source": [
    "This can be used to give an idea of laser induced heating as the thermal contributions of a CW laser can be calucalted in proportion to: \n",
    "    $$ \\phi_{Thermal}=1-\\phi_{Flou}$$\n",
    "Need to make some assumptions about the switching yield. If can find the Skylan-NS yield then could calculate from the rates: \n",
    "    $$ \\phi_{Switch,Kiiro}=\\frac{k_{Kiiro}}{k_{Skylan-NS}}*\\phi_{Switch,Skylan-NS}$$\n",
    " \n",
    "For now will assume: $\\phi_{Switch,Kiiro}=0.3$ which seems simular to reported of dronpa ect.. \n",
    "\n",
    "Have the population densities being dependant on the number of photons, $\\#$. But have written attenuation as a function of intensity. Need the intesnity as number of photons per area per a second. Or.. \n",
    "$$ I = \\frac{\\# }{A*t} $$\n",
    "\n",
    "Measurements were done with an energy density: $$\\rho=\\frac{\\# E_i}{A}=\\frac{It}{A}$$\n",
    "$$ \\# = \\frac{\\rho A}{E_i} $$\n",
    "$$ I_0=\\frac{\\rho}{E_i t}  $$#\n",
    "For example: energy density of $\\rho = 1 mJ/mm^2 $ in a time of $t=20ms$ with wavelength 405 nm therefore $E_i=\\frac{hc}{405 nm} = 4.42e-17 J = 4.42 e-14 mJ $ so the the rate of photons per a unit area and time is \n",
    "$$ I_0=\\frac{100 mJ / cm^2}{4.42e-14mJ*20e-3 s}=1.13e17 \\text{ photons per second per cm}^2$$\n",
    "$$ I_0 = \\frac{\\rho*100}{4.42e-14*t} $$\n",
    "What should starting N be ? Know that samples had an average OD of 0.23 at 505 nm. So can use Beer-Lambert:\n",
    "$$ A=\\epsilon l c$$\n",
    "But want c*l in cm$^{-2}$ not in mol/dm$^{3}$*cm$^{-1}$ so:\n",
    "$$ lc=\\frac{A}{\\epsilon}\\frac{N_A}{1000} cm^{-2}=1.20e15 cm^{-2}$$\n",
    "Actually maybe should be considering the initial intensity as a rate of photons per an area: \n",
    "$$ I_0=\\frac{1}{A}\\frac{d\\#}{dt}$$"
   ]
  },
  {
   "cell_type": "markdown",
   "metadata": {
    "collapsed": false,
    "pycharm": {
     "name": "#%% md\n"
    }
   },
   "source": []
  },
  {
   "cell_type": "markdown",
   "metadata": {
    "collapsed": false,
    "pycharm": {
     "name": "#%%\n",
     "is_executing": false
    }
   },
   "source": [
    "import numpy as np\n",
    "\n",
    "def pop(N, z,width):\n",
    "\tif z > width:\n",
    "\t\tu = 0\n",
    "\telif z < 0:\n",
    "\t\tu = 0\n",
    "\telse:\n",
    "\t\tu = 1\n",
    "\treturn N * u\n",
    "\n",
    "\n",
    "def atten(N, z, I0, sig, width):\n",
    "\tif z < 0:\n",
    "\t\tv = I0\n",
    "\telif z > width:\n",
    "\t\tv = I0 * np.exp(-sig * width)\n",
    "\telse:\n",
    "\t\tv = I0 * np.exp(-sig * N * z)  # Remember to change line above!!\n",
    "\treturn v\n",
    "\n",
    "\n",
    "def delN(N, phi, sig, I):\n",
    "\treturn N * phi * sig * I\n",
    "\n",
    "\n",
    "def I0_rate(ED):\n",
    "\treturn ED * 100 / 4.42e-16  # *10e-3 #Intensity per cm2 per s\n",
    "\n",
    "\n",
    "def model(ED, phi, width, sig, tstep, tmax, N0):\n",
    "\tdI0dt = I0_rate(ED)\n",
    "\tz = np.linspace(-0.1, 1.1, 100)\n",
    "\tt = np.empty(int(tmax / tstep))\n",
    "\tN = np.empty_like(z)\n",
    "\tI = np.empty_like(z)\n",
    "\tdN = np.empty_like(z)\n",
    "\tNf = np.empty_like(z)\n",
    "\tIntergral = 0\n",
    "\n",
    "\t# Set up time:\n",
    "\tfor i in enumerate(t):\n",
    "\t\tt[i[0]] = tstep\n",
    "\n",
    "\tfor j in enumerate(t):\n",
    "\t\tI0 = dI0dt * j[1]\n",
    "\t\tif j[0] == 0:\n",
    "\t\t\tfor i in enumerate(z):\n",
    "\t\t\t\tN[i[0]] = pop(N0, i[1], width)\n",
    "\t\t\t\tI[i[0]] = atten(pop(N0, i[1], width), i[1], I0, sig, width)\n",
    "\t\t\t\tdN[i[0]] = delN(N[i[0]], phi, sig, I[i[0]])\n",
    "\t\t\t\tNf[i[0]] = N[i[0]] - dN[i[0]]\n",
    "\n",
    "\t\telse:\n",
    "\t\t\tN = Nf\n",
    "\t\t\tfor i in enumerate(z):\n",
    "\t\t\t\tI[i[0]] = atten(N[i[0]], i[1], I0, sig, width)\n",
    "\t\t\t\tI[i[0]] = atten(pop(N[i[0]], i[1], width), i[1], I0, sig, width)\n",
    "\t\t\t\tI[i[0]] = atten(pop(N[i[0]], i[1], width), i[1], I0, sig, width)\n",
    "\t\t\t\tdN[i[0]] = delN(N[i[0]], phi, sig, I[i[0]])\n",
    "\t\t\t\tNf[i[0]] = N[i[0]] - dN[i[0]]\n",
    "\tfor i in enumerate(z):\n",
    "\t\tif i[0] > 0:\n",
    "\t\t\tIntergral = Intergral + (z[i[0]] - z[i[0] - 1]) * (\n",
    "\t\t\t\t\t(Nf[i[0]] + Nf[i[0] - 1]) / 2)  # The trapeze rule - there must be a nicer way to do this..\n",
    "\tprint(\"Percent: \", (Intergral / N0))\n",
    "\treturn (Intergral / N0, ED)\n"
   ]
  },
  {
   "cell_type": "code",
   "execution_count": 3,
   "metadata": {
    "collapsed": false,
    "pycharm": {
     "name": "#%%\n",
     "is_executing": false
    }
   },
   "outputs": [
    {
     "name": "stdout",
     "output_type": "stream",
     "text": [
      "Number of processors:  4\n",
      "Percent:  0.6857594795701215\n",
      "Percent:  0.5676229842276698\n",
      "Percent:  0.46892297634493246\n",
      "Percent:  0.826638835159026\n",
      "Percent:  0.3867282254948814\n",
      "Percent:  0.3184713196046595\n",
      "Percent:  0.2151838751882556\n",
      "Percent:  0.2619269893936026\n",
      "Percent:  0.17661290340603758\n",
      "Percent:  0.1448347161177536\n",
      "Percent:  0.11868789892709648\n",
      "Percent:  0.0971991490700483\n",
      "Percent:  0.07955604457220104\n",
      "Percent:  0.06508271669334093\n",
      "Percent:  0.053218477106550734\n",
      "Percent:  0.043499287754724114\n",
      "Percent:  0.035541864104449705\n",
      "Percent:  0.02903015296738625\n",
      "Percent:  0.023703909051950005\n",
      "Percent:  0.019349098370489568\n",
      "Percent:  0.01288188587878721\n",
      "Percent:  0.015789873128313918\n",
      "Percent:  0.010506736611634595\n",
      "Percent:  0.008567372546239583\n",
      "Percent:  0.006984285232101585\n",
      "Percent:  0.0056923723052518015\n",
      "Percent:  0.004638351554051979\n",
      "Percent:  0.0037786327366897297\n",
      "Percent:  0.0030775679617718226\n",
      "Percent:  0.002506014581420047\n",
      "Percent:  0.0020401556847770637\n",
      "Percent:  0.0016605326620416205\n",
      "Percent:  0.0010993364017577037\n",
      "Percent:  0.0013512521713208176\n",
      "Percent:  0.0007271694220631415\n",
      "Percent:  0.0005912166794533413\n",
      "Percent:  0.0008941909835527523\n",
      "Percent:  0.00048057762218400423\n",
      "Percent:  0.0003905586053520282\n",
      "Percent:  0.00025777974239763336\n",
      "Percent:  0.00020935750864038678\n",
      "Percent:  0.00031733256779951897\n",
      "Percent:  0.0001699940834764942\n",
      "Percent:  0.00013800170584316686\n",
      "Percent:  0.00011200575764843269\n",
      "Percent:  9.088690956777061e-05\n",
      "Percent:  7.373390922509843e-05\n",
      "Percent:  5.980506293019296e-05\n",
      "Percent:  4.84968172823138e-05\n",
      "Percent:  3.931813772198517e-05\n",
      "Percent:  3.186961910925018e-05\n",
      "Percent:  2.5826458147912894e-05\n",
      "Percent:  2.092457677772185e-05\n",
      "Percent:  1.6949315934069887e-05\n",
      "Percent:  1.3726225588253102e-05\n",
      "Percent:  1.111356404367041e-05\n",
      "Percent:  8.996190609289852e-06\n",
      "Percent:  5.890845467519131e-06\n",
      "Percent:  4.765307314904402e-06\n",
      "Percent:  7.280593897163744e-06\n",
      "Percent:  3.853953341566501e-06\n",
      "Percent:  3.1161908003942913e-06\n",
      "Percent:  2.519088773519087e-06\n",
      "Percent:  2.035937954354533e-06\n",
      "Percent:  1.6450800321587601e-06\n",
      "Percent:  1.3289564209050757e-06\n",
      "Percent:  8.666843702922607e-07\n",
      "Percent:  1.0733354038560271e-06\n",
      "Percent:  6.996600187645436e-07\n",
      "Percent:  5.646944512603817e-07\n",
      "Percent:  4.556591964961525e-07\n",
      "Percent:  3.675925509815514e-07\n",
      "Percent:  2.964783546109118e-07\n",
      "Percent:  2.3906653841905115e-07\n",
      "Percent:  1.927275897037844e-07\n",
      "Percent:  1.5533455055778974e-07\n",
      "Percent:  1.2516736243039953e-07\n",
      "Percent:  8.121436968394359e-08\n",
      "Percent:  1.0083534257947361e-07\n",
      "Percent:  6.539599929618977e-08\n",
      "Percent:  5.264625278098151e-08\n",
      "Percent:  3.409518818774609e-08\n",
      "Percent:  4.237224836464048e-08\n",
      "Percent:  2.7428495703606236e-08\n",
      "Percent:  2.2060125510918714e-08\n",
      "Percent:  1.7738252614803986e-08\n",
      "Percent:  1.4259698200240051e-08\n",
      "Percent:  1.1460570803732912e-08\n",
      "Percent:  9.208700591889996e-09\n",
      "Percent:  7.397524616347658e-09\n",
      "Percent:  4.770342097808772e-09\n",
      "Percent:  5.94114592258868e-09\n",
      "Percent:  3.829341567771555e-09\n",
      "Percent:  3.073220577323639e-09\n",
      "Percent:  2.4658018431229354e-09\n",
      "Percent:  1.977958591888326e-09\n",
      "Percent:  1.5862461011718097e-09\n",
      "Percent:  1.2717977604695286e-09\n",
      "Percent:  1.0194347323443786e-09\n",
      "Percent:  8.169480547455647e-10\n"
     ]
    },
    {
     "data": {
      "text/plain": [
       "<Figure size 640x480 with 1 Axes>"
      ]
     },
     "metadata": {},
     "output_type": "display_data"
    }
   ],
   "source": [
    "import attenuation_modeling_funcs as amf\n",
    "import multiprocessing as mp\n",
    "import numpy as np\n",
    "from matplotlib import pyplot as plt\n",
    "from scipy.optimize import curve_fit\n",
    "\n",
    "\n",
    "def collect_result(result):\n",
    "\tglobal results\n",
    "\tresults.append(result)\n",
    "\n",
    "\n",
    "print(\"Number of processors: \", mp.cpu_count())\n",
    "width = 1.0\n",
    "N0 = 1.20e15  # sample per cm-2\n",
    "sig = 1.47e-16  # cross section per cm-2\n",
    "phi = 0.3  # quantum yeidld of converstion\n",
    "tstep = 1e-4  # In Seconds\n",
    "tmax = 20e-3  # in seconds\n",
    "\n",
    "ED = np.linspace(1, 100, 100)\n",
    "\n",
    "pool = mp.Pool(mp.cpu_count())\n",
    "results_object = [pool.apply_async(amf.model, args=(EDi, phi, width, sig, tstep, tmax, N0)) for EDi in ED]\n",
    "result_ED = np.asarray([r.get()[1] for r in results_object])\n",
    "result_percent = np.asarray([r.get()[0] for r in results_object])\n",
    "pool.close()\n",
    "pool.join()\n",
    "\n",
    "\n",
    "def exponenial_func(x, a, b, c):\n",
    "\treturn a * np.exp(-b * x) + c\n",
    "\n",
    "popt, pcov = curve_fit(exponenial_func, result_ED, result_percent, p0=(1, 0.1, 0.1))\n",
    "fit = exponenial_func(result_ED, *popt)\n",
    "plt.plot(result_ED, result_percent)\n",
    "plt.plot(result_ED,fit)\n",
    "plt.show()\n",
    "# amf.model(ED, phi, width, sig, tstep, tmax, N0)\n",
    "\n"
   ]
  }
 ],
 "metadata": {
  "kernelspec": {
   "display_name": "Python 3",
   "language": "python",
   "name": "python3"
  },
  "language_info": {
   "codemirror_mode": {
    "name": "ipython",
    "version": 2
   },
   "file_extension": ".py",
   "mimetype": "text/x-python",
   "name": "python",
   "nbconvert_exporter": "python",
   "pygments_lexer": "ipython2",
   "version": "2.7.6"
  },
  "pycharm": {
   "stem_cell": {
    "cell_type": "raw",
    "source": [],
    "metadata": {
     "collapsed": false
    }
   }
  }
 },
 "nbformat": 4,
 "nbformat_minor": 0
}
